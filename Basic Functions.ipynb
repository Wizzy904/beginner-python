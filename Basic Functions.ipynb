{
 "cells": [
  {
   "cell_type": "code",
   "execution_count": 27,
   "metadata": {},
   "outputs": [],
   "source": [
    "def Arithmetic_progression():\n",
    "    '''This is a function that calculates Arithmetic progression of a series.'''\n",
    "    #Arithmetic progression \n",
    "    a=float(input(\"First Term = \"))\n",
    "    d=float(input(\"Common difference = \"))\n",
    "    n=float(input(\"Which term of the series do you wish to find = \"))\n",
    "    Formula = a+(n-1)*d\n",
    "    print(\"The\" ,n, \"term is = \", Formula)\n"
   ]
  },
  {
   "cell_type": "code",
   "execution_count": 28,
   "metadata": {},
   "outputs": [
    {
     "name": "stdout",
     "output_type": "stream",
     "text": [
      "First Term = 4\n",
      "Common difference = 5\n",
      "Which term of the series do you wish to find = 15\n",
      "The 15.0 term is =  74.0\n"
     ]
    }
   ],
   "source": [
    "Arithmetic_progression()"
   ]
  },
  {
   "cell_type": "code",
   "execution_count": 29,
   "metadata": {},
   "outputs": [],
   "source": [
    "def Geometric_progression():\n",
    "    \"\"\"This is a function that calculates Arithmetic progression of a sequence.\"\"\"\n",
    "    a=float(input(\"First Term = \"))\n",
    "    r=float(input(\"Common ratio = \"))\n",
    "    n=float(input(\"Which term of the sequence do you wish to find = \"))\n",
    "    Formula = a*(r**(n-1))\n",
    "    print(\"The\" ,n, \"term is = \", Formula)"
   ]
  },
  {
   "cell_type": "code",
   "execution_count": 30,
   "metadata": {},
   "outputs": [
    {
     "name": "stdout",
     "output_type": "stream",
     "text": [
      "First Term = 6\n",
      "Common ratio = 2\n",
      "Which term of the sequence do you wish to find = 5\n",
      "The 5.0 term is =  96.0\n"
     ]
    }
   ],
   "source": [
    "Geometric_progression()"
   ]
  },
  {
   "cell_type": "code",
   "execution_count": 37,
   "metadata": {},
   "outputs": [],
   "source": [
    "import math \n",
    "\n",
    "def Vector_projection():\n",
    "    #Vector projection\n",
    "    print(\"Enter your coordinates for your vector A\")\n",
    "    A1=float(input(\"X coordinate of vector A = \"))\n",
    "    A2=float(input(\"Y coordinate of vector A = \"))\n",
    "    print(\"Vector A = \",(A1,A2))\n",
    "    print(\"Enter your coordinates for your vector B\")\n",
    "    B1=float(input(\"X coordinate of vector B = \"))\n",
    "    B2=float(input(\"Y coordinate of vector B = \"))\n",
    "    print(\"Vector B = \",(B1,B2))\n",
    "    Module_of_vector_b = math.sqrt((B1**2)+(B2**2))\n",
    "    print(\"Module of vector B = \", Module_of_vector_b)\n",
    "    X_coordinate_of_Projection = (((A1*B1)+(A2*B2))/(Module_of_vector_b**2))*B1\n",
    "    Y_coordinate_of_Projection = (((A1*B1)+(A2*B2))/(Module_of_vector_b**2))*B2\n",
    "    print(\"projection of Vector A onto Vector B = \",(X_coordinate_of_Projection,Y_coordinate_of_Projection))"
   ]
  },
  {
   "cell_type": "code",
   "execution_count": 38,
   "metadata": {},
   "outputs": [
    {
     "name": "stdout",
     "output_type": "stream",
     "text": [
      "Enter your coordinates for your vector A\n",
      "X coordinate of vector A = 2\n",
      "Y coordinate of vector A = -3\n",
      "Vector A =  (2.0, -3.0)\n",
      "Enter your coordinates for your vector B\n",
      "X coordinate of vector B = -7\n",
      "Y coordinate of vector B = 1\n",
      "Vector B =  (-7.0, 1.0)\n",
      "Module of vector B =  7.0710678118654755\n",
      "projection of Vector A onto Vector B =  (2.38, -0.33999999999999997)\n"
     ]
    }
   ],
   "source": [
    "Vector_projection()"
   ]
  },
  {
   "cell_type": "code",
   "execution_count": 39,
   "metadata": {},
   "outputs": [],
   "source": [
    "def HCF():\n",
    "    \"\"\"This is a function that calculates the HCF of two values.\"\"\"\n",
    "    a = float(input(\"Enter first value: \"))   \n",
    "    b = float(input(\"Enter second value: \"))\n",
    "    c,d = a,b\n",
    "    factors = [2,3,5,7]\n",
    "    final_length = 2\n",
    "    initial_length = 1\n",
    "    divisible = []\n",
    "    len_divisible = []\n",
    "    \n",
    "    while (final_length > initial_length):\n",
    "        for _ in range(2):\n",
    "            for factor in factors:\n",
    "                if (c%factor==0) and (d%factor==0):\n",
    "                    c = c//factor\n",
    "                    d = d//factor\n",
    "                    divisible.append(factor)\n",
    "            len_divisible.append(len(divisible))\n",
    "        initial_length = len_divisible[-2]\n",
    "        final_length = len_divisible[-1]\n",
    "    \n",
    "    \n",
    "    x=1\n",
    "    for value in divisible:                       \n",
    "        x *= value\n",
    "    print(\"The H.C.F Value of {} and {}: {}\".format(a,b,x))    "
   ]
  },
  {
   "cell_type": "code",
   "execution_count": 40,
   "metadata": {},
   "outputs": [
    {
     "name": "stdout",
     "output_type": "stream",
     "text": [
      "Enter first value: 20\n",
      "Enter second value: 50\n",
      "The H.C.F Value of 20.0 and 50.0: 10\n"
     ]
    }
   ],
   "source": [
    "HCF()"
   ]
  },
  {
   "cell_type": "code",
   "execution_count": 41,
   "metadata": {},
   "outputs": [],
   "source": [
    "def LCM():\n",
    "    a = float(input(\"Enter first value: \"))   \n",
    "    b = float(input(\"Enter second value: \"))\n",
    "    c,d = a,b\n",
    "    factors = [2,3,5,7]\n",
    "    final_length = 2\n",
    "    initial_length = 1\n",
    "    divisible = []\n",
    "    len_divisible = []\n",
    "    \n",
    "    while (final_length > initial_length):\n",
    "        for _ in range(2):\n",
    "            for factor in factors:\n",
    "                if (c % factor == 0) and (d % factor == 0):\n",
    "                    c = c//factor\n",
    "                    d = d//factor\n",
    "                    divisible.append(factor)\n",
    "            len_divisible.append(len(divisible))\n",
    "        initial_length = len_divisible[-2]\n",
    "        final_length = len_divisible[-1]\n",
    "        \n",
    "    divisible.append(c)\n",
    "    divisible.append(d)\n",
    "    \n",
    "    x=1\n",
    "    for value in divisible:                       \n",
    "        x *= value\n",
    "    print(\"The L.C.M Value of {} and {}: {}\".format(a,b,x))    "
   ]
  },
  {
   "cell_type": "code",
   "execution_count": 42,
   "metadata": {},
   "outputs": [
    {
     "name": "stdout",
     "output_type": "stream",
     "text": [
      "Enter first value: 20\n",
      "Enter second value: 50\n",
      "The L.C.M Value of 20.0 and 50.0: 100.0\n"
     ]
    }
   ],
   "source": [
    "LCM()"
   ]
  },
  {
   "cell_type": "code",
   "execution_count": null,
   "metadata": {},
   "outputs": [],
   "source": []
  }
 ],
 "metadata": {
  "kernelspec": {
   "display_name": "Python 3",
   "language": "python",
   "name": "python3"
  },
  "language_info": {
   "codemirror_mode": {
    "name": "ipython",
    "version": 3
   },
   "file_extension": ".py",
   "mimetype": "text/x-python",
   "name": "python",
   "nbconvert_exporter": "python",
   "pygments_lexer": "ipython3",
   "version": "3.7.3"
  }
 },
 "nbformat": 4,
 "nbformat_minor": 2
}
